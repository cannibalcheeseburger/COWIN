{
 "metadata": {
  "language_info": {
   "codemirror_mode": {
    "name": "ipython",
    "version": 3
   },
   "file_extension": ".py",
   "mimetype": "text/x-python",
   "name": "python",
   "nbconvert_exporter": "python",
   "pygments_lexer": "ipython3",
   "version": "3.7.6"
  },
  "orig_nbformat": 2,
  "kernelspec": {
   "name": "python376jvsc74a57bd09bb8cabea485496b2bfe23854d3c1f468dc9354f49d3cf36deb2f53ba2eb8792",
   "display_name": "Python 3.7.6 64-bit"
  }
 },
 "nbformat": 4,
 "nbformat_minor": 2,
 "cells": [
  {
   "cell_type": "code",
   "execution_count": 110,
   "metadata": {},
   "outputs": [],
   "source": [
    "import requests\n",
    "import json\n"
   ]
  },
  {
   "cell_type": "code",
   "execution_count": 111,
   "metadata": {},
   "outputs": [],
   "source": [
    "# FOR PINCODE\n",
    "url = \"https://cdn-api.co-vin.in/api/v2/appointment/sessions/public/calendarByPin?pincode=175018&date=12-05-2021\"\n",
    "headers = {'User-Agent': 'Mozilla/5.0 (Windows NT 6.1; WOW64; rv:20.0) Gecko/20100101 Firefox/20.0'}\n",
    "\n",
    "data = requests.get(url,headers=headers)"
   ]
  },
  {
   "cell_type": "code",
   "execution_count": 112,
   "metadata": {},
   "outputs": [],
   "source": [
    "resp = json.loads(data.text)"
   ]
  },
  {
   "cell_type": "code",
   "execution_count": 113,
   "metadata": {},
   "outputs": [
    {
     "output_type": "stream",
     "name": "stdout",
     "text": [
      "{'center_id': 611758, 'name': 'Sundernagar CH CVC', 'address': 'VPO Sundernagar', 'state_name': 'Himachal Pradesh', 'district_name': 'Mandi', 'block_name': 'Chowk', 'pincode': 175018, 'lat': 31, 'long': 76, 'from': '10:00:00', 'to': '16:00:00', 'fee_type': 'Free', 'sessions': [{'session_id': 'ae19e4d9-769e-49aa-9b47-1693bb068ec3', 'date': '12-05-2021', 'available_capacity': 45, 'min_age_limit': 45, 'vaccine': 'COVISHIELD', 'slots': ['10:00AM-11:00AM', '11:00AM-12:00PM', '12:00PM-01:00PM', '01:00PM-04:00PM']}, {'session_id': '05ecd6c8-5c49-431a-98b0-84addc410fe8', 'date': '13-05-2021', 'available_capacity': 66, 'min_age_limit': 45, 'vaccine': 'COVISHIELD', 'slots': ['10:00AM-11:00AM', '11:00AM-12:00PM', '12:00PM-01:00PM', '01:00PM-04:00PM']}, {'session_id': '5bff3264-cabf-4676-903b-46d521aa2480', 'date': '14-05-2021', 'available_capacity': 59, 'min_age_limit': 45, 'vaccine': 'COVISHIELD', 'slots': ['10:00AM-11:00AM', '11:00AM-12:00PM', '12:00PM-01:00PM', '01:00PM-04:00PM']}, {'session_id': '9ea99282-f91f-4ec6-8030-877f63dadb70', 'date': '15-05-2021', 'available_capacity': 66, 'min_age_limit': 45, 'vaccine': 'COVISHIELD', 'slots': ['09:00AM-11:00AM', '11:00AM-01:00PM', '01:00PM-03:00PM', '03:00PM-04:00PM']}]}\n{'center_id': 611758, 'name': 'Sundernagar CH CVC', 'address': 'VPO Sundernagar', 'state_name': 'Himachal Pradesh', 'district_name': 'Mandi', 'block_name': 'Chowk', 'pincode': 175018, 'lat': 31, 'long': 76, 'from': '10:00:00', 'to': '16:00:00', 'fee_type': 'Free', 'sessions': [{'session_id': 'ae19e4d9-769e-49aa-9b47-1693bb068ec3', 'date': '12-05-2021', 'available_capacity': 45, 'min_age_limit': 45, 'vaccine': 'COVISHIELD', 'slots': ['10:00AM-11:00AM', '11:00AM-12:00PM', '12:00PM-01:00PM', '01:00PM-04:00PM']}, {'session_id': '05ecd6c8-5c49-431a-98b0-84addc410fe8', 'date': '13-05-2021', 'available_capacity': 66, 'min_age_limit': 45, 'vaccine': 'COVISHIELD', 'slots': ['10:00AM-11:00AM', '11:00AM-12:00PM', '12:00PM-01:00PM', '01:00PM-04:00PM']}, {'session_id': '5bff3264-cabf-4676-903b-46d521aa2480', 'date': '14-05-2021', 'available_capacity': 59, 'min_age_limit': 45, 'vaccine': 'COVISHIELD', 'slots': ['10:00AM-11:00AM', '11:00AM-12:00PM', '12:00PM-01:00PM', '01:00PM-04:00PM']}, {'session_id': '9ea99282-f91f-4ec6-8030-877f63dadb70', 'date': '15-05-2021', 'available_capacity': 66, 'min_age_limit': 45, 'vaccine': 'COVISHIELD', 'slots': ['09:00AM-11:00AM', '11:00AM-01:00PM', '01:00PM-03:00PM', '03:00PM-04:00PM']}]}\n{'center_id': 611758, 'name': 'Sundernagar CH CVC', 'address': 'VPO Sundernagar', 'state_name': 'Himachal Pradesh', 'district_name': 'Mandi', 'block_name': 'Chowk', 'pincode': 175018, 'lat': 31, 'long': 76, 'from': '10:00:00', 'to': '16:00:00', 'fee_type': 'Free', 'sessions': [{'session_id': 'ae19e4d9-769e-49aa-9b47-1693bb068ec3', 'date': '12-05-2021', 'available_capacity': 45, 'min_age_limit': 45, 'vaccine': 'COVISHIELD', 'slots': ['10:00AM-11:00AM', '11:00AM-12:00PM', '12:00PM-01:00PM', '01:00PM-04:00PM']}, {'session_id': '05ecd6c8-5c49-431a-98b0-84addc410fe8', 'date': '13-05-2021', 'available_capacity': 66, 'min_age_limit': 45, 'vaccine': 'COVISHIELD', 'slots': ['10:00AM-11:00AM', '11:00AM-12:00PM', '12:00PM-01:00PM', '01:00PM-04:00PM']}, {'session_id': '5bff3264-cabf-4676-903b-46d521aa2480', 'date': '14-05-2021', 'available_capacity': 59, 'min_age_limit': 45, 'vaccine': 'COVISHIELD', 'slots': ['10:00AM-11:00AM', '11:00AM-12:00PM', '12:00PM-01:00PM', '01:00PM-04:00PM']}, {'session_id': '9ea99282-f91f-4ec6-8030-877f63dadb70', 'date': '15-05-2021', 'available_capacity': 66, 'min_age_limit': 45, 'vaccine': 'COVISHIELD', 'slots': ['09:00AM-11:00AM', '11:00AM-01:00PM', '01:00PM-03:00PM', '03:00PM-04:00PM']}]}\n{'center_id': 611758, 'name': 'Sundernagar CH CVC', 'address': 'VPO Sundernagar', 'state_name': 'Himachal Pradesh', 'district_name': 'Mandi', 'block_name': 'Chowk', 'pincode': 175018, 'lat': 31, 'long': 76, 'from': '10:00:00', 'to': '16:00:00', 'fee_type': 'Free', 'sessions': [{'session_id': 'ae19e4d9-769e-49aa-9b47-1693bb068ec3', 'date': '12-05-2021', 'available_capacity': 45, 'min_age_limit': 45, 'vaccine': 'COVISHIELD', 'slots': ['10:00AM-11:00AM', '11:00AM-12:00PM', '12:00PM-01:00PM', '01:00PM-04:00PM']}, {'session_id': '05ecd6c8-5c49-431a-98b0-84addc410fe8', 'date': '13-05-2021', 'available_capacity': 66, 'min_age_limit': 45, 'vaccine': 'COVISHIELD', 'slots': ['10:00AM-11:00AM', '11:00AM-12:00PM', '12:00PM-01:00PM', '01:00PM-04:00PM']}, {'session_id': '5bff3264-cabf-4676-903b-46d521aa2480', 'date': '14-05-2021', 'available_capacity': 59, 'min_age_limit': 45, 'vaccine': 'COVISHIELD', 'slots': ['10:00AM-11:00AM', '11:00AM-12:00PM', '12:00PM-01:00PM', '01:00PM-04:00PM']}, {'session_id': '9ea99282-f91f-4ec6-8030-877f63dadb70', 'date': '15-05-2021', 'available_capacity': 66, 'min_age_limit': 45, 'vaccine': 'COVISHIELD', 'slots': ['09:00AM-11:00AM', '11:00AM-01:00PM', '01:00PM-03:00PM', '03:00PM-04:00PM']}]}\n{'center_id': 568758, 'name': 'Chowk PHC CVC', 'address': 'VPO Chowk', 'state_name': 'Himachal Pradesh', 'district_name': 'Mandi', 'block_name': 'Chowk', 'pincode': 175018, 'lat': 0, 'long': 0, 'from': '10:00:00', 'to': '16:00:00', 'fee_type': 'Free', 'sessions': [{'session_id': 'b87de4ce-280a-4595-9839-7b332993749b', 'date': '12-05-2021', 'available_capacity': 58, 'min_age_limit': 45, 'vaccine': 'COVISHIELD', 'slots': ['10:00AM-11:00AM', '11:00AM-12:00PM', '12:00PM-01:00PM', '01:00PM-04:00PM']}]}\n"
     ]
    }
   ],
   "source": [
    "for centers in resp['centers']:\n",
    "    for sess in centers['sessions']:\n",
    "        if int(sess[\"min_age_limit\"])==45:\n",
    "            print(centers)"
   ]
  },
  {
   "cell_type": "code",
   "execution_count": 114,
   "metadata": {},
   "outputs": [],
   "source": [
    "url  = \"https://cdn-api.co-vin.in/api/v2/appointment/sessions/public/calendarByDistrict?district_id=215&date=15-05-2021\"\n",
    "data = requests.get(url,headers=headers)"
   ]
  },
  {
   "cell_type": "code",
   "execution_count": 115,
   "metadata": {},
   "outputs": [],
   "source": [
    "resp = json.loads(data.text)"
   ]
  },
  {
   "cell_type": "code",
   "execution_count": 116,
   "metadata": {},
   "outputs": [],
   "source": [
    "for centers in resp['centers']:\n",
    "    for sess in centers['sessions']:\n",
    "        if int(sess[\"min_age_limit\"])==18:\n",
    "            print(centers)\n",
    "                "
   ]
  },
  {
   "cell_type": "code",
   "execution_count": 117,
   "metadata": {},
   "outputs": [
    {
     "output_type": "execute_result",
     "data": {
      "text/plain": [
       "'12-05-2021'"
      ]
     },
     "metadata": {},
     "execution_count": 117
    }
   ],
   "source": [
    "from datetime import date\n",
    "date.today().strftime(format='%d-%m-%Y')"
   ]
  }
 ]
}